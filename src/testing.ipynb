{
 "cells": [
  {
   "cell_type": "code",
   "execution_count": null,
   "metadata": {},
   "outputs": [],
   "source": [
    "import docx2txt\n",
    "import os\n",
    "import re\n",
    "from usefulFunctions import currentPathFolder, currentPathParentFolder, currentPathGrandpaFolder, currentPathGrandpaFolderParent\n",
    " \n",
    "# read in word file\n",
    "path = os.path.join(currentPathParentFolder, 'Kardexs')\n",
    "path = os.path.join(path, 'K42218.docx')\n",
    "result = docx2txt.process(path)\n",
    "\n",
    "x = re.findall(r'\\D\\d{8}\\D', result)\n",
    "for i in x:\n",
    "    y = re.search(i, result).span()\n",
    "    print(y)\n",
    "\n",
    "print(result)"
   ]
  },
  {
   "cell_type": "code",
   "execution_count": null,
   "metadata": {},
   "outputs": [],
   "source": [
    "from usefulFunctions import currentPathFolder, currentPathParentFolder, currentPathGrandpaFolder, currentPathGrandpaFolderParent\n",
    "\n",
    "print(currentPathFolder)\n",
    "print(currentPathParentFolder)\n",
    "print(currentPathGrandpaFolder)\n",
    "print(currentPathGrandpaFolderParent)\n"
   ]
  },
  {
   "cell_type": "code",
   "execution_count": null,
   "metadata": {},
   "outputs": [],
   "source": [
    "from docx.enum.text import WD_COLOR_INDEX\n",
    "from docx import Document\n",
    "document = Document(\"dani.docx\")\n",
    "print(f\"catindad de parrafos: {len(document.paragraphs)}\")\n",
    "searchedWord=\"Some\"\n",
    "for paragraph in document.paragraphs:\n",
    "    if searchedWord in paragraph.text:\n",
    "        #print(paragraph.text)\n",
    "        #paragraph.font.highlight_color = WD_COLOR_INDEX.YELLOW\n",
    "        for run in paragraph.runs:\n",
    "            print(run.text)\n",
    "            if searchedWord in run.text:\n",
    "                x = run.text.split(searchedWord)\n",
    "                print(f\"cantidad de palabras en el run: {len(x)}\")\n",
    "                print(x)\n",
    "                run.clear()\n",
    "                for i in range(len(x)-1):\n",
    "                    run.add_text(x[i])\n",
    "                    paragraph.add_run(searchedWord).font.highlight_color = WD_COLOR_INDEX.YELLOW\n",
    "                    #run.add_text(searchedWord)\n",
    "                    #run.font.highlight_color = WD_COLOR_INDEX.YELLOW\n",
    "document.save('dani2.docx')\n",
    "\n",
    "\n",
    "\n",
    "\n",
    "\n",
    "\n",
    "\n"
   ]
  },
  {
   "cell_type": "code",
   "execution_count": 12,
   "metadata": {},
   "outputs": [],
   "source": [
    "import win32com.client\n",
    "\n",
    "word = win32com.client.Dispatch(\"Word.Application\")\n",
    "#doc = word.Documents.Open(\"K42218.docx\")\n",
    "doc = word.Documents.Open(\"K42218.docx\")\n",
    "\n",
    "word.Selection.Find.Execute(\"CIUDAD DE LIMA\")\n",
    "#win32com.client.constants.wdYellow\n",
    "word.Selection.Range.HighlightColorIndex = 7\n",
    "\n",
    "doc.SaveAs(\"K42218-2.docx\")\n",
    "\n",
    "doc.Close()"
   ]
  },
  {
   "cell_type": "code",
   "execution_count": 20,
   "metadata": {},
   "outputs": [],
   "source": [
    "import smtplib\n",
    "from email.message import EmailMessage\n",
    "import ssl\n",
    "\n",
    "msg = EmailMessage()\n",
    "msg['Subject'] = 'Kardexs confrontados'\n",
    "msg['From'] = 'Bot Sepúlveda'\n",
    "msg['To'] = 'cllerenam@uni.pe'\n",
    "\n",
    "with open(r'C:\\Users\\crist\\Documents\\K42218-2.docx', 'rb') as f:\n",
    "    file_data = f.read()\n",
    "    file_name = f.name\n",
    "    msg.add_attachment(file_data, maintype = 'application', subtype = 'docx', filename = file_name)\n",
    "\n",
    "context = ssl.create_default_context()\n",
    "\n",
    "with smtplib.SMTP_SSL('smtp.gmail.com', 465, context= context) as smtp:\n",
    "    smtp.login(\"cristhiamllerena@gmail.com\", \"eqgodczcyagtbiqz\")\n",
    "    smtp.send_message(msg)\n",
    "    smtp.quit()"
   ]
  },
  {
   "cell_type": "code",
   "execution_count": null,
   "metadata": {},
   "outputs": [],
   "source": []
  }
 ],
 "metadata": {
  "kernelspec": {
   "display_name": "Python 3.10.8 64-bit",
   "language": "python",
   "name": "python3"
  },
  "language_info": {
   "codemirror_mode": {
    "name": "ipython",
    "version": 3
   },
   "file_extension": ".py",
   "mimetype": "text/x-python",
   "name": "python",
   "nbconvert_exporter": "python",
   "pygments_lexer": "ipython3",
   "version": "3.10.8"
  },
  "orig_nbformat": 4,
  "vscode": {
   "interpreter": {
    "hash": "43973268aa23c7cf4b4cafe0e819fac9b2412fcc991a21988492c3271a4e3f9b"
   }
  }
 },
 "nbformat": 4,
 "nbformat_minor": 2
}
